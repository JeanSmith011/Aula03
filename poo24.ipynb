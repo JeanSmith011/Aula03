{
  "nbformat": 4,
  "nbformat_minor": 0,
  "metadata": {
    "colab": {
      "provenance": [],
      "authorship_tag": "ABX9TyPUpofBsLJSE1/qvbMHXugS",
      "include_colab_link": true
    },
    "kernelspec": {
      "name": "python3",
      "display_name": "Python 3"
    },
    "language_info": {
      "name": "python"
    }
  },
  "cells": [
    {
      "cell_type": "markdown",
      "metadata": {
        "id": "view-in-github",
        "colab_type": "text"
      },
      "source": [
        "<a href=\"https://colab.research.google.com/github/JeanSmith011/Aula03/blob/main/poo24.ipynb\" target=\"_parent\"><img src=\"https://colab.research.google.com/assets/colab-badge.svg\" alt=\"Open In Colab\"/></a>"
      ]
    },
    {
      "cell_type": "code",
      "execution_count": null,
      "metadata": {
        "id": "SBIWvoJmiiyt"
      },
      "outputs": [],
      "source": [
        "F = float(input(\"Digite valor em Graus Farenheit\"))\n",
        "c = (5/9)*(F-32)\n",
        "print(f\"Ovalor de {f}ºF corresponde ao valor de {c}ºC\")"
      ]
    }
  ]
}